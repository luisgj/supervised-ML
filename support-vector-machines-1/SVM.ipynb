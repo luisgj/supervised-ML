{
 "cells": [
  {
   "cell_type": "code",
   "execution_count": null,
   "metadata": {},
   "outputs": [],
   "source": [
    "# Import statements \n",
    "from sklearn.svm import SVC\n",
    "from sklearn.metrics import accuracy_score\n",
    "import pandas as pd\n",
    "import numpy as np"
   ]
  },
  {
   "cell_type": "code",
   "execution_count": 11,
   "metadata": {},
   "outputs": [
    {
     "name": "stdout",
     "output_type": "stream",
     "text": [
      "[[ 0.24539   0.81725 ]\n",
      " [ 0.21774   0.76462 ]\n",
      " [ 0.20161   0.69737 ]\n",
      " [ 0.20161   0.58041 ]\n",
      " [ 0.2477    0.49561 ]\n",
      " [ 0.32834   0.44883 ]\n",
      " [ 0.39516   0.48099 ]\n",
      " [ 0.39286   0.57164 ]\n",
      " [ 0.33525   0.62135 ]\n",
      " [ 0.33986   0.71199 ]\n",
      " [ 0.34447   0.81433 ]\n",
      " [ 0.28226   0.82602 ]\n",
      " [ 0.26613   0.75    ]\n",
      " [ 0.26613   0.63596 ]\n",
      " [ 0.32604   0.54825 ]\n",
      " [ 0.28917   0.65643 ]\n",
      " [ 0.80069   0.71491 ]\n",
      " [ 0.80069   0.64181 ]\n",
      " [ 0.80069   0.50146 ]\n",
      " [ 0.79839   0.36988 ]\n",
      " [ 0.73157   0.25    ]\n",
      " [ 0.63249   0.18275 ]\n",
      " [ 0.60023   0.27047 ]\n",
      " [ 0.66014   0.34649 ]\n",
      " [ 0.70161   0.42251 ]\n",
      " [ 0.70853   0.53947 ]\n",
      " [ 0.71544   0.63304 ]\n",
      " [ 0.74309   0.72076 ]\n",
      " [ 0.75      0.63596 ]\n",
      " [ 0.75      0.46345 ]\n",
      " [ 0.72235   0.35526 ]\n",
      " [ 0.66935   0.28509 ]\n",
      " [ 0.20622   0.94298 ]\n",
      " [ 0.26613   0.8962  ]\n",
      " [ 0.38134   0.8962  ]\n",
      " [ 0.42051   0.94591 ]\n",
      " [ 0.49885   0.86404 ]\n",
      " [ 0.31452   0.93421 ]\n",
      " [ 0.53111   0.72076 ]\n",
      " [ 0.45276   0.74415 ]\n",
      " [ 0.53571   0.6038  ]\n",
      " [ 0.60484   0.71491 ]\n",
      " [ 0.60945   0.58333 ]\n",
      " [ 0.51267   0.47807 ]\n",
      " [ 0.50806   0.59211 ]\n",
      " [ 0.46198   0.30556 ]\n",
      " [ 0.5288    0.41082 ]\n",
      " [ 0.38594   0.35819 ]\n",
      " [ 0.31682   0.31433 ]\n",
      " [ 0.29608   0.20906 ]\n",
      " [ 0.36982   0.27632 ]\n",
      " [ 0.42972   0.18275 ]\n",
      " [ 0.51498   0.10965 ]\n",
      " [ 0.53111   0.20906 ]\n",
      " [ 0.59793   0.095029]\n",
      " [ 0.73848   0.086257]\n",
      " [ 0.83065   0.18275 ]\n",
      " [ 0.8629    0.10965 ]\n",
      " [ 0.88364   0.27924 ]\n",
      " [ 0.93433   0.30848 ]\n",
      " [ 0.93433   0.19444 ]\n",
      " [ 0.92512   0.43421 ]\n",
      " [ 0.87903   0.43421 ]\n",
      " [ 0.87903   0.58626 ]\n",
      " [ 0.9182    0.71491 ]\n",
      " [ 0.85138   0.8348  ]\n",
      " [ 0.85599   0.94006 ]\n",
      " [ 0.70853   0.94298 ]\n",
      " [ 0.70853   0.87281 ]\n",
      " [ 0.59793   0.93129 ]\n",
      " [ 0.61175   0.83187 ]\n",
      " [ 0.78226   0.82895 ]\n",
      " [ 0.78917   0.8962  ]\n",
      " [ 0.90668   0.89912 ]\n",
      " [ 0.14862   0.92251 ]\n",
      " [ 0.15092   0.85819 ]\n",
      " [ 0.097926  0.85819 ]\n",
      " [ 0.079493  0.91374 ]\n",
      " [ 0.079493  0.77632 ]\n",
      " [ 0.10945   0.79678 ]\n",
      " [ 0.12327   0.67982 ]\n",
      " [ 0.077189  0.6886  ]\n",
      " [ 0.081797  0.58626 ]\n",
      " [ 0.14862   0.58041 ]\n",
      " [ 0.14862   0.5307  ]\n",
      " [ 0.14171   0.41959 ]\n",
      " [ 0.08871   0.49269 ]\n",
      " [ 0.095622  0.36696 ]\n",
      " [ 0.24539   0.3962  ]\n",
      " [ 0.1947    0.29678 ]\n",
      " [ 0.16935   0.22368 ]\n",
      " [ 0.15553   0.13596 ]\n",
      " [ 0.23848   0.12427 ]\n",
      " [ 0.33065   0.12427 ]\n",
      " [ 0.095622  0.2617  ]\n",
      " [ 0.091014  0.20322 ]] [ 0.  0.  0.  0.  0.  0.  0.  0.  0.  0.  0.  0.  0.  0.  0.  0.  0.  0.\n",
      "  0.  0.  0.  0.  0.  0.  0.  0.  0.  0.  0.  0.  0.  0.  1.  1.  1.  1.\n",
      "  1.  1.  1.  1.  1.  1.  1.  1.  1.  1.  1.  1.  1.  1.  1.  1.  1.  1.\n",
      "  1.  1.  1.  1.  1.  1.  1.  1.  1.  1.  1.  1.  1.  1.  1.  1.  1.  1.\n",
      "  1.  1.  1.  1.  1.  1.  1.  1.  1.  1.  1.  1.  1.  1.  1.  1.  1.  1.\n",
      "  1.  1.  1.  1.  1.  1.]\n"
     ]
    }
   ],
   "source": [
    "# Read the data.\n",
    "data = np.asarray(pd.read_csv('data.csv', header=None))\n",
    "# TODO: Assign the features to the variable X, and the labels to the variable y.\n",
    "X = data[:,0:2]\n",
    "y = data[:,2]"
   ]
  },
  {
   "cell_type": "code",
   "execution_count": 28,
   "metadata": {},
   "outputs": [
    {
     "data": {
      "text/plain": [
       "1.0"
      ]
     },
     "execution_count": 28,
     "metadata": {},
     "output_type": "execute_result"
    }
   ],
   "source": [
    "# TODO: Create the model and assign it to the variable model.\n",
    "# Find the right parameters for this model to achieve 100% accuracy on the dataset.\n",
    "model = SVC(kernel=\"rbf\", gamma=27)\n",
    "\n",
    "# TODO: Fit the model.\n",
    "model.fit(X, y)\n",
    "\n",
    "# TODO: Make predictions. Store them in the variable y_pred.\n",
    "y_pred = model.predict(X)\n",
    "\n",
    "# TODO: Calculate the accuracy and assign it to the variable acc.\n",
    "train_acc = accuracy_score(y_pred, y)\n",
    "train_acc"
   ]
  },
  {
   "cell_type": "code",
   "execution_count": 29,
   "metadata": {},
   "outputs": [
    {
     "data": {
      "text/plain": [
       "1.0"
      ]
     },
     "execution_count": 29,
     "metadata": {},
     "output_type": "execute_result"
    }
   ],
   "source": [
    "# TODO: Make predictions. Store them in the variable y_pred.\n",
    "y_pred = model.predict(X)\n",
    "\n",
    "# TODO: Calculate the accuracy and assign it to the variable acc.\n",
    "pred_acc = accuracy_score(y_pred, y)\n",
    "pred_acc"
   ]
  },
  {
   "cell_type": "code",
   "execution_count": null,
   "metadata": {},
   "outputs": [],
   "source": []
  }
 ],
 "metadata": {
  "kernelspec": {
   "display_name": "Python 3",
   "language": "python",
   "name": "python3"
  },
  "language_info": {
   "codemirror_mode": {
    "name": "ipython",
    "version": 3
   },
   "file_extension": ".py",
   "mimetype": "text/x-python",
   "name": "python",
   "nbconvert_exporter": "python",
   "pygments_lexer": "ipython3",
   "version": "3.10.8 (main, Dec 17 2022, 20:50:22) [Clang 12.0.0 (clang-1200.0.32.29)]"
  },
  "vscode": {
   "interpreter": {
    "hash": "407d97de1541869a2be991a85cfc0578505dd6537683732b309e2f67c9658c5b"
   }
  }
 },
 "nbformat": 4,
 "nbformat_minor": 2
}
